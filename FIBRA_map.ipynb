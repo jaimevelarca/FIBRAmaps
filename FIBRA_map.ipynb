{
 "cells": [
  {
   "attachments": {},
   "cell_type": "markdown",
   "metadata": {},
   "source": [
    "#### Import libraries"
   ]
  },
  {
   "cell_type": "code",
   "execution_count": 69,
   "metadata": {},
   "outputs": [],
   "source": [
    "import os\n",
    "import folium\n",
    "\n",
    "import pandas as pd\n",
    "import geopandas as gpd\n",
    "import numpy as np\n",
    "\n",
    "from shapely.geometry import Point, Polygon, LineString\n",
    "from shapely import wkt\n"
   ]
  },
  {
   "cell_type": "code",
   "execution_count": 70,
   "metadata": {},
   "outputs": [],
   "source": [
    "import os\n",
    "\n",
    "PATH = '/Users/jaimesalcedovelarca/Library/CloudStorage/GoogleDrive-jaimevelarca@gmail.com/My Drive/Jaime/Geostatistic/Folium/'\n",
    "RAW = PATH + 'data/raw/'\n",
    "PROC = PATH + 'data/proc/'\n",
    "RESULTS = PATH + 'results/'\n",
    "\n",
    "os.chdir(PATH)"
   ]
  },
  {
   "attachments": {},
   "cell_type": "markdown",
   "metadata": {},
   "source": [
    "### Load working data"
   ]
  },
  {
   "cell_type": "code",
   "execution_count": 71,
   "metadata": {},
   "outputs": [],
   "source": [
    "etapas = pd.read_pickle(PROC+'etapas_coords.pkl')\n",
    "prospectos = pd.read_pickle(PROC+'prospectos_coords.pkl')\n",
    "\n",
    "e1 = etapas[etapas['Etapa_x']=='E1']\n",
    "e2 = etapas[etapas['Etapa_x']=='E2']\n",
    "e3 = etapas[etapas['Etapa_x']=='E3']\n",
    "e4 = etapas[etapas['Etapa_x']=='E4']\n",
    "\n",
    "ustorage = pd.read_csv(PROC+'sucursales.csv')\n",
    "ustorage.drop(2,inplace=True)\n",
    "ustorage['coordinates'] = ustorage[['Lat','Lon']].apply(tuple,axis=1)"
   ]
  },
  {
   "attachments": {},
   "cell_type": "markdown",
   "metadata": {},
   "source": [
    "#### Load polygon layers"
   ]
  },
  {
   "attachments": {},
   "cell_type": "markdown",
   "metadata": {},
   "source": [
    "##### Municipios de Mexico"
   ]
  },
  {
   "cell_type": "code",
   "execution_count": 72,
   "metadata": {},
   "outputs": [],
   "source": [
    "OPIDATA = '/Users/jaimesalcedovelarca/Library/CloudStorage/GoogleDrive-jaimevelarca@gmail.com/My Drive/Jaime/Geostatistic/FIBRA Analytics/OPI/opi-ustorage'\n",
    "\n",
    "# Cargamos los polígonos de todos los municipios del país\n",
    "\n",
    "pais = gpd.GeoDataFrame()\n",
    "\n",
    "for cveedo in range(1, 33):\n",
    "    cveedo = str(cveedo).zfill(2)\n",
    "    estado = gpd.read_file(f'{OPIDATA}/municipio/{cveedo}')\n",
    "    \n",
    "    pais = pd.concat([pais, estado])"
   ]
  },
  {
   "attachments": {},
   "cell_type": "markdown",
   "metadata": {},
   "source": [
    "##### AGEBS"
   ]
  },
  {
   "cell_type": "code",
   "execution_count": 73,
   "metadata": {},
   "outputs": [],
   "source": [
    "# Cargamos los polígonos de todas las AGEBS del país\n",
    "agebs = gpd.GeoDataFrame()\n",
    "\n",
    "for cveedo in range(1, 33):\n",
    "    cveedo = str(cveedo).zfill(2)\n",
    "    estado = gpd.read_file(f'{OPIDATA}/ageb/{cveedo}')\n",
    "\n",
    "    agebs = pd.concat([agebs, estado])"
   ]
  },
  {
   "cell_type": "code",
   "execution_count": 74,
   "metadata": {},
   "outputs": [],
   "source": [
    "def agebs_near_coordinates(coordenadas):\n",
    "    # Coordenadas\n",
    "    latitud = coordenadas[0]\n",
    "    longitud = coordenadas[1]\n",
    "\n",
    "    # Generamos un circulo para saber que estados se encuentran a la redonda\n",
    "    # Radio en metros\n",
    "    radio = 50000\n",
    "\n",
    "    circulo = pd.DataFrame()\n",
    "\n",
    "    circulo.loc[0,'geometry'] = str(Point(longitud, latitud))\n",
    "\n",
    "    circulo['geometry'] = circulo['geometry'].apply(wkt.loads)\n",
    "    circulo = gpd.GeoDataFrame(circulo,\n",
    "                               crs = \"EPSG:4326\",\n",
    "                               geometry='geometry')\n",
    "\n",
    "    circulo = circulo.to_crs(\"EPSG:6372\")\n",
    "    circulo['geometry'] = circulo['geometry'].buffer(radio)\n",
    "    circulo = circulo.to_crs(\"EPSG:4326\")\n",
    "\n",
    "    # Vemos que estados hay en 10km a la redonda con el fin de cargar las manzanas de los estados necesarios\n",
    "\n",
    "    zona = gpd.sjoin(circulo, pais)[['cvemun']]\n",
    "\n",
    "    zona['cveedo'] = zona['cvemun'].str[0:2]\n",
    "\n",
    "    estados = zona['cveedo'].unique().tolist()\n",
    "\n",
    "    # Cargamos las agebs de todos los estados que necesitaremos\n",
    "\n",
    "    agebs = gpd.GeoDataFrame()\n",
    "\n",
    "    for cveedo in estados:\n",
    "        print(cveedo)\n",
    "        estado = gpd.read_file(f'{OPIDATA}/ageb/{cveedo}')\n",
    "\n",
    "        agebs = pd.concat([agebs, estado])\n",
    "    return agebs\n"
   ]
  },
  {
   "attachments": {},
   "cell_type": "markdown",
   "metadata": {},
   "source": [
    "#### Obtain agebs for CMDX, GDL, MTY"
   ]
  },
  {
   "cell_type": "code",
   "execution_count": 75,
   "metadata": {},
   "outputs": [
    {
     "name": "stdout",
     "output_type": "stream",
     "text": [
      "15\n",
      "09\n",
      "13\n",
      "17\n",
      "19\n",
      "05\n",
      "14\n",
      "32\n"
     ]
    }
   ],
   "source": [
    "agebs_cdmx = agebs_near_coordinates((19.41370972007067, -99.17017113141412))\n",
    "agebs_mty = agebs_near_coordinates((25.702460895594644, -100.31403980850217))\n",
    "agebs_gdl = agebs_near_coordinates((20.663681158024637, -103.35509879478342))\n",
    "\n",
    "agebs = pd.concat([agebs_cdmx,agebs_gdl,agebs_mty])"
   ]
  },
  {
   "cell_type": "code",
   "execution_count": 76,
   "metadata": {},
   "outputs": [
    {
     "name": "stdout",
     "output_type": "stream",
     "text": [
      "count    22760.000000\n",
      "mean         4.752944\n",
      "std         37.828856\n",
      "min          0.000000\n",
      "25%          0.000000\n",
      "50%          0.000000\n",
      "75%          0.000000\n",
      "max       2229.000000\n",
      "Name: M2_rentados, dtype: float64\n"
     ]
    }
   ],
   "source": [
    "agebs['M2_rentados'] = agebs[['M2_rentados_por_clientes_reside', 'M2_rentados_por_clientes_comerc']].sum(axis=1)\n",
    "print(agebs['M2_rentados'].describe())"
   ]
  },
  {
   "cell_type": "code",
   "execution_count": 77,
   "metadata": {},
   "outputs": [
    {
     "name": "stdout",
     "output_type": "stream",
     "text": [
      "['C' 'C-' 'E' 'AB' 'C+' 'D' 'D+' '']\n",
      "Index(['ageb', 'Hogares_ABCmasC_por_km2', 'Hogares_ABCmasC', 'Flo_Ocu_ABCmasC',\n",
      "       'Negocios_Modelo', 'PPM2_Local_Comercial',\n",
      "       'M2_rentados_por_clientes_reside', 'M2_rentados_por_clientes_comerc',\n",
      "       'NSE', 'cvemun', 'cveedo', 'Municipio', 'Estado', 'geometry',\n",
      "       'M2_rentados'],\n",
      "      dtype='object')\n",
      "count    22760.000000\n",
      "mean         4.752944\n",
      "std         37.828856\n",
      "min          0.000000\n",
      "25%          0.000000\n",
      "50%          0.000000\n",
      "75%          0.000000\n",
      "max       2229.000000\n",
      "Name: M2_rentados, dtype: float64\n"
     ]
    },
    {
     "data": {
      "image/png": "[encoded data removed]",
      "text/plain": [
       "<Figure size 432x288 with 1 Axes>"
      ]
     },
     "metadata": {
      "needs_background": "light"
     },
     "output_type": "display_data"
    }
   ],
   "source": [
    "print(agebs['NSE'].unique())\n",
    "print(agebs.columns)\n",
    "\n",
    "print(agebs['M2_rentados'].describe())\n",
    "\n",
    "import matplotlib.pyplot as plt\n",
    "\n",
    "# Plot the histogram\n",
    "plt.hist(agebs['M2_rentados'], bins=200)\n",
    "plt.xlabel('Column Name')\n",
    "plt.ylabel('Frequency')\n",
    "plt.title('Histogram of Column Name')\n",
    "plt.show()"
   ]
  },
  {
   "attachments": {},
   "cell_type": "markdown",
   "metadata": {},
   "source": [
    "# Create map"
   ]
  },
  {
   "attachments": {},
   "cell_type": "markdown",
   "metadata": {},
   "source": [
    "### Define function"
   ]
  },
  {
   "cell_type": "code",
   "execution_count": 78,
   "metadata": {},
   "outputs": [],
   "source": [
    "# def create_feature_group(etapa0, stage_name, color):\n",
    "#     feature_group = folium.FeatureGroup(name=stage_name)\n",
    "#     for index in etapa0.index:\n",
    "#         feature_group.add_child(folium.Marker(\n",
    "#             etapa0.loc[index, 'Coordenadas'],\n",
    "#             popup=folium.Popup(etapa0.loc[index,'Calle']),\n",
    "#             icon=folium.Icon(color=color,icon='eye',prefix='fa')\n",
    "#         ))\n",
    "#     return feature_group"
   ]
  },
  {
   "cell_type": "code",
   "execution_count": 86,
   "metadata": {},
   "outputs": [],
   "source": [
    "def create_feature_group(dataframe, stage_name, color):\n",
    "    feature_group = folium.FeatureGroup(name=stage_name)\n",
    "    for index in dataframe.index:\n",
    "        html_popup = \"<b>Nombre: </b>\"+str(dataframe.loc[index, 'Calle'])+\"<br>\"+\\\n",
    "        \"<b>Folio: </b>\"+str(dataframe.loc[index, 'Folio'])+\"<br>\"+\\\n",
    "        \"<b>Tamaño m2: </b>\"+str(dataframe.loc[index, 'Tamaño m2'])+\"<br>\"+\\\n",
    "        \"<b>Sup. Construida: </b>\"+str(dataframe.loc[index, 'Sup. Construida'])+\"<br>\"+\\\n",
    "        \"<b>Precio: </b>\"+str(dataframe.loc[index, 'Precio'])+\"<br>\"+\\\n",
    "        \"<b>Precio x m2: </b>\"+str(dataframe.loc[index, 'Precio x m2'])+\"<br>\"+\\\n",
    "        \"<b>Precio x m2 const: </b>\"+str(dataframe.loc[index, 'Precio x m2 const'])+\"<br>\"+\\\n",
    "        \"<b>Venta/Renta: </b>\"+str(dataframe.loc[index, 'Venta/Renta'])+\"<br>\"+\\\n",
    "        \"<b>Uso de Suelo: </b>\"+str(dataframe.loc[index, 'Uso de Suelo'])+\"<br>\"\n",
    "        feature_group.add_child(folium.Marker(\n",
    "            dataframe.loc[index, 'Coordenadas'],\n",
    "            popup=folium.Popup(html=html_popup),\n",
    "            tooltip=folium.Tooltip(stage_name),\n",
    "            icon=folium.Icon(color=color,icon='eye',prefix='fa')\n",
    "            ))\n",
    "    return feature_group"
   ]
  },
  {
   "attachments": {},
   "cell_type": "markdown",
   "metadata": {},
   "source": [
    "### Create map"
   ]
  },
  {
   "cell_type": "code",
   "execution_count": 88,
   "metadata": {},
   "outputs": [],
   "source": [
    "fibra = folium.Map(location=(19.409276288405334, -99.14712675233007),tiles='cartodb positron', zoom_start=10)\n",
    "\n",
    "# create the feature groups for each stage\n",
    "etapa1 = create_feature_group(e1, 'Etapa 1', 'green')\n",
    "etapa2 = create_feature_group(e2, 'Etapa 2', 'blue')\n",
    "etapa3 = create_feature_group(e3, 'Etapa 3', 'purple')\n",
    "etapa4 = create_feature_group(e4, 'Etapa 4', 'red')\n",
    "\n",
    "# Add layer for prospectos\n",
    "etapa0 = folium.FeatureGroup(name='Etapa 0')\n",
    "for index in prospectos.index:\n",
    "    html_popup = \"<b>Calle: </b>\"+str(prospectos.loc[index, 'Calle'])+\"<br>\"+\\\n",
    "    \"<b>Folio: </b>\"+str(prospectos.loc[index, 'Folio'])+\"<br>\"+\\\n",
    "    \"<b>Tamaño m2: </b>\"+str(prospectos.loc[index, 'Dimensiones del predio (total en m2 del predio). Ej. 1,800m2'])+\"<br>\"+\\\n",
    "    \"<b>Sup. Construida: </b>\"+str(prospectos.loc[index, 'Superficie Construida'])+\"<br>\"+\\\n",
    "    \"<b>Precio: </b>\"+str(prospectos.loc[index, 'Valor en pesos mexicanos del total del predio.'])+\"<br>\"+\\\n",
    "    \"<b>Venta/Renta: </b>\"+str(prospectos.loc[index, 'Venta o renta'])+\"<br>\"+\\\n",
    "    \"<b>Uso de Suelo: </b>\"+str(prospectos.loc[index, 'Tipo de uso de suelo: habitacional, mixto, ...'])+\"<br>\"\\\n",
    "    \"<b>Contacto: </b>\"+str(prospectos.loc[index, 'Contacto nombre'])+\"<br>\"\n",
    "    etapa0.add_child(folium.Marker(\n",
    "    prospectos.loc[index, 'Coordenadas'],\n",
    "    popup=folium.Popup(html=html_popup),\n",
    "    tooltip=folium.Tooltip('Etapa 0'),\n",
    "    icon=folium.Icon(color=\"lightgray\",icon='eye',prefix='fa')\n",
    "    ))\n",
    "\n",
    "# for index in prospectos.index:\n",
    "#     etapa0.add_child(folium.Marker(\n",
    "#         location = prospectos.at[index,'Coordenadas'],\n",
    "#         popup=folium.Popup(prospectos.loc[index,'Calle']),\n",
    "#         icon = folium.Icon(color='lightgray',icon='question',prefix='fa')\n",
    "#     ))\n",
    "\n",
    "# add a marker for the branches\n",
    "sucursales = folium.FeatureGroup(name='Sucursales')\n",
    "for IX in ustorage.index:\n",
    "    sucursales.add_child(folium.Marker(\n",
    "        location=ustorage.loc[IX,'coordinates'],#ustorage.loc[IX,'Lon']],\n",
    "        popup=folium.Popup(ustorage.loc[IX,'Sucursal']),\n",
    "        tooltip=folium.Tooltip('Sucursal'),\n",
    "        icon=folium.Icon(color='orange',icon='building',prefix='fa')\n",
    "        ))\n"
   ]
  },
  {
   "cell_type": "code",
   "execution_count": 89,
   "metadata": {},
   "outputs": [
    {
     "data": {
      "text/plain": [
       "<folium.map.FeatureGroup at 0x28909aa90>"
      ]
     },
     "execution_count": 89,
     "metadata": {},
     "output_type": "execute_result"
    }
   ],
   "source": [
    "\n",
    "# NSE layer for counties\n",
    "# Define the color map\n",
    "color_map = {'E':'green','D':'green','D+':'#f2ef1d','C-':'#f2ef1d', 'C':'purple','C+':'purple','AB':'red'}\n",
    "\n",
    "# Municipios\n",
    "municipios = folium.FeatureGroup(name='Municipios')\n",
    "municipios.add_child(folium.GeoJson(pais,name='NSE',style_function=lambda feature:\n",
    "{'fillColor':color_map[feature['properties']['NSE']],\n",
    "'color':'black',\n",
    "'weight':1,\n",
    "'fillOpacity':0.5}\n",
    "))\n",
    "\n",
    "# Agebs\n",
    "color_map = {'E':'green','D':'green','D+':'#f2ef1d','C-':'#f2ef1d', 'C':'purple','C+':'purple','AB':'red','':'#f7f7f2'}\n",
    "\n",
    "agebs_layer = folium.FeatureGroup(name='Areas Geograficas Basicas')\n",
    "agebs_layer.add_child(folium.GeoJson(agebs,name='NSE',style_function=lambda feature:\n",
    "{'fillColor':color_map[feature['properties']['NSE']],\n",
    "'color':'black',\n",
    "'weight':1,\n",
    "'fillOpacity':.75}\n",
    ")) "
   ]
  },
  {
   "cell_type": "code",
   "execution_count": 90,
   "metadata": {},
   "outputs": [
    {
     "name": "stdout",
     "output_type": "stream",
     "text": [
      "[NaN, 'Bajo', 'Intermedio', 'Muy bajo', 'Medio-alto', 'Alto']\n",
      "Categories (5, object): ['Muy bajo' < 'Bajo' < 'Intermedio' < 'Medio-alto' < 'Alto']\n"
     ]
    }
   ],
   "source": [
    "# M2 rentados layer\n",
    "variable = 'M2_rentados'\n",
    "\n",
    "colors = ['#e6d8d8','#de807c','#d95752','#db2e27','#6e1a17']\n",
    "colors_dic = {'Muy bajo':'#e6d8d8','Bajo':'#de807c','Intermedio':'#d95752','Medio-alto':'#db2e27','Alto':'#6e1a17','N/A':'#ffffff'}\n",
    "bins = [0,5,10,20,100,agebs[variable].max()]\n",
    "labels = ['Muy bajo','Bajo','Intermedio','Medio-alto','Alto']\n",
    "agebs['range'] = pd.cut(agebs[variable],bins=bins,labels=labels)\n",
    "#agebs_cdmx['range'].fillna(value='N/A',inplace=True)\n",
    "print(agebs['range'].unique())"
   ]
  },
  {
   "cell_type": "code",
   "execution_count": 91,
   "metadata": {},
   "outputs": [
    {
     "data": {
      "text/plain": [
       "<folium.map.FeatureGroup at 0x382f518b0>"
      ]
     },
     "execution_count": 91,
     "metadata": {},
     "output_type": "execute_result"
    }
   ],
   "source": [
    "\n",
    "metros = folium.FeatureGroup(name='Metros rentados')\n",
    "metros.add_child(folium.GeoJson(agebs, name='Metros rentados', style_function=lambda feature: {\n",
    "    'fillColor': colors_dic.get(feature['properties']['range'],'black'),\n",
    "    'weight': 1,\n",
    "    'fillOpacity': 0.6}\n",
    "))"
   ]
  },
  {
   "cell_type": "code",
   "execution_count": 85,
   "metadata": {},
   "outputs": [],
   "source": [
    "\n",
    "# add the feature groups to the map\n",
    "etapa1.add_to(fibra)\n",
    "etapa2.add_to(fibra)\n",
    "etapa3.add_to(fibra)\n",
    "etapa4.add_to(fibra)\n",
    "etapa0.add_to(fibra)\n",
    "sucursales.add_to(fibra)\n",
    "municipios.add_to(fibra)\n",
    "agebs_layer.add_to(fibra)\n",
    "metros.add_to(fibra)\n",
    "\n",
    "\n",
    "folium.LayerControl(position='topleft', overlay=True).add_to(fibra)\n",
    "\n",
    "fibra.save(RESULTS+'mapa_prospectos_ciudades_info.html')"
   ]
  },
  {
   "cell_type": "code",
   "execution_count": null,
   "metadata": {},
   "outputs": [],
   "source": []
  }
 ],
 "metadata": {
  "kernelspec": {
   "display_name": "folium",
   "language": "python",
   "name": "python3"
  },
  "language_info": {
   "codemirror_mode": {
    "name": "ipython",
    "version": 3
   },
   "file_extension": ".py",
   "mimetype": "text/x-python",
   "name": "python",
   "nbconvert_exporter": "python",
   "pygments_lexer": "ipython3",
   "version": "3.9.12 (main, Jun  1 2022, 06:34:44) \n[Clang 12.0.0 ]"
  },
  "orig_nbformat": 4,
  "vscode": {
   "interpreter": {
    "hash": "2a304db4ad421c740281f4196701aba7f10a61793f586e8c7381cc239f6bebcc"
   }
  }
 },
 "nbformat": 4,
 "nbformat_minor": 2
}
